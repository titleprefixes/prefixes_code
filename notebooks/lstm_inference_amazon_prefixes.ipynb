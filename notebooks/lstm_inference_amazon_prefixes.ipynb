{
 "cells": [
  {
   "cell_type": "code",
   "execution_count": 1,
   "metadata": {},
   "outputs": [],
   "source": [
    "import sys\n",
    "import os\n",
    "sys.path.append('../')\n",
    "\n",
    "import gensim\n",
    "from torch.utils.data import DataLoader\n",
    "\n",
    "from dataset import LSTMAmazonRandomPrefix\n",
    "from model import PadSequence, LSTMClassifier\n",
    "from utils import process_df, init_random_seed\n",
    "from tqdm import tqdm\n",
    "import pandas as pd\n",
    "import numpy as np\n",
    "import random\n",
    "import spacy\n",
    "import torch"
   ]
  },
  {
   "cell_type": "code",
   "execution_count": 2,
   "metadata": {},
   "outputs": [],
   "source": [
    "init_random_seed(9001)"
   ]
  },
  {
   "cell_type": "markdown",
   "metadata": {},
   "source": [
    "# Modify following values according to desired flow"
   ]
  },
  {
   "cell_type": "code",
   "execution_count": null,
   "metadata": {
    "is_executing": true
   },
   "outputs": [],
   "source": [
    "w2v_model_path = '' \n",
    "original_model_path = \"bert-base-uncased\"\n",
    "model_dir = \"../lstm_models/\"\n",
    "model_fname = ''\n",
    "test_set_fname = ''\n",
    "mode = 'random' # Can be 'random', 'complete' or 'subsets'"
   ]
  },
  {
   "cell_type": "code",
   "execution_count": null,
   "metadata": {},
   "outputs": [],
   "source": [
    "spacy_tokenizer = spacy.blank('en')\n",
    "\n",
    "def reduce_title(title, max_len, tokenizer_spacy):\n",
    "    tokens = tokenizer_spacy(title)\n",
    "    return tokens[:max_len].text"
   ]
  },
  {
   "cell_type": "code",
   "execution_count": null,
   "metadata": {},
   "outputs": [],
   "source": [
    "test = pd.read_csv(test_set_fname, keep_default_na=False, na_values=['$$$__$$$'])\n",
    "test['title'] = test['title'].apply(lambda x: \" \".join(x.split()))\n",
    "test = process_df(test, spacy_tokenizer) if mode in ['random', 'subsets'] else test\n",
    "if mode == 'complete':\n",
    "    test['tok_len'] = test['title'].apply(lambda x: len(spacy_tokenizer(x)))"
   ]
  },
  {
   "cell_type": "code",
   "execution_count": null,
   "metadata": {},
   "outputs": [],
   "source": [
    "w2v_model = gensim.models.KeyedVectors.load(w2v_model_path)\n",
    "word2vec_vectors = list(w2v_model.vectors)\n",
    "vocab_size = len(w2v_model.index_to_key)+2\n",
    "\n",
    "embedding_dim = w2v_model.vector_size\n",
    "\n",
    "word2vec_vectors.append(np.random.normal(scale=1.0, size=(embedding_dim,)))\n",
    "word2vec_vectors.append(np.zeros(shape=(embedding_dim,)))\n",
    "bidirection = True\n",
    "hidden_size = 384\n",
    "num_layers =1\n",
    "dropout = 0.1\n",
    "\n",
    "\n",
    "\n",
    "model = LSTMClassifier(vocab_size, embedding_dim, hidden_size, num_layers, bidirection, dropout,\n",
    "                                test['label'].nunique(), pad_token_id=len(word2vec_vectors)-1)\n",
    "unk_token_id = len(word2vec_vectors) - 2\n",
    "pad_token_id = len(word2vec_vectors) - 1\n",
    "\n",
    "del word2vec_vectors"
   ]
  },
  {
   "cell_type": "code",
   "execution_count": null,
   "metadata": {},
   "outputs": [],
   "source": [
    "from metrics import get_all_classes_stats, accuracy, recall, precision, rank_predictions_metrics\n",
    "\n",
    "\n",
    "original_token_lengths = [12,]\n",
    "prefix_lengths = list(range(1,7))\n",
    "\n",
    "device = torch.device('cuda' if torch.cuda.is_available() else 'cpu')\n",
    "model_path = os.path.join(model_dir,model_fname)\n",
    "model.load_state_dict(torch.load(model_path))\n",
    "model = model.to(device)\n",
    "model.eval()\n",
    "stats = {}\n",
    "for length in original_token_lengths:\n",
    "    stats[length] = {}\n",
    "    print(\"working on length\",length)\n",
    "    for prefix_length in prefix_lengths:\n",
    "        stats[length][prefix_length] = {}\n",
    "        tmp = test.copy(deep=True)\n",
    "        tmp = tmp[tmp.tok_len==length].reset_index(drop=True)\n",
    "        tmp['title'] = tmp['title'].apply(lambda x: reduce_title(x,prefix_length, spacy_tokenizer))\n",
    "        \n",
    "        test_dl = DataLoader(LSTMAmazonRandomPrefix(tmp, \"title\", \"label\", w2v_model.key_to_index,\n",
    "                                            unk_token_id=unk_token_id,random_=False),\n",
    "                          batch_size=64, num_workers=4,\n",
    "                          collate_fn=PadSequence(pad_token_id=pad_token_id),shuffle=False)\n",
    "        all_labels = []\n",
    "        all_preds_scores = []\n",
    "        for step,batch in enumerate(tqdm(test_dl)):\n",
    "            inp_ids,lengths, labels = batch\n",
    "            inp_ids = inp_ids.to(device)\n",
    "            lengths = lengths.to(device)\n",
    "            labels = labels.to(device)\n",
    "            with torch.no_grad():\n",
    "                outputs = model(inp_ids, lengths)\n",
    "                all_preds_scores.extend(list(outputs.cpu().numpy()))\n",
    "                all_labels.extend(list(labels.cpu().numpy()))\n",
    "\n",
    "        all_preds_scores, all_labels = np.array(all_preds_scores), np.array(all_labels)\n",
    "        all_preds = np.argmax(all_preds_scores,axis=1)\n",
    "        \n",
    "        precision_stats = get_all_classes_stats(precision,all_preds,all_labels)\n",
    "        macro_precision = np.mean([precision_stats[i] for i in precision_stats])*100\n",
    "        recall_stats = get_all_classes_stats(recall,all_preds,all_labels)\n",
    "        macro_recall = np.mean([recall_stats[i] for i in recall_stats])*100\n",
    "        accuracy_value = accuracy(all_preds,all_labels)*100\n",
    "        \n",
    "        stats[length][prefix_length]['MACRO_PRECISION'] = macro_precision\n",
    "        stats[length][prefix_length]['MACRO_RECALL'] = macro_recall\n",
    "        stats[length][prefix_length]['ACCURACY'] = accuracy_value\n",
    "        \n",
    "        for k in [3,5]:\n",
    "            hits, hit_rate = rank_predictions_metrics(all_preds_scores, all_labels, k)\n",
    "            stats[length][prefix_length][f'HITS@{k}'] = hit_rate"
   ]
  },
  {
   "cell_type": "code",
   "execution_count": null,
   "metadata": {},
   "outputs": [],
   "source": []
  }
 ],
 "metadata": {
  "kernelspec": {
   "display_name": "Python 3 (ipykernel)",
   "language": "python",
   "name": "python3"
  },
  "language_info": {
   "codemirror_mode": {
    "name": "ipython",
    "version": 3
   },
   "file_extension": ".py",
   "mimetype": "text/x-python",
   "name": "python",
   "nbconvert_exporter": "python",
   "pygments_lexer": "ipython3",
   "version": "3.9.6"
  }
 },
 "nbformat": 4,
 "nbformat_minor": 4
}
