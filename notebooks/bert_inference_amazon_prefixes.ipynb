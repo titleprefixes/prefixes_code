{
 "cells": [
  {
   "cell_type": "code",
   "execution_count": 1,
   "metadata": {
    "is_executing": true
   },
   "outputs": [],
   "source": [
    "import sys\n",
    "sys.path.append('../')\n",
    "\n",
    "import spacy\n",
    "from dataset import collate_batch_amazon, get_data_loader_amazon_bert\n",
    "from functools import partial\n",
    "\n",
    "from utils import model_and_tokenizer_from_spec_cls, process_df, init_random_seed\n",
    "from metrics import *\n",
    "\n",
    "from tqdm import tqdm\n",
    "import pandas as pd\n",
    "import numpy as np\n",
    "import random\n",
    "import os\n",
    "os.environ[\"TOKENIZERS_PARALLELISM\"] = \"false\"\n",
    "import torch"
   ]
  },
  {
   "cell_type": "code",
   "execution_count": 2,
   "metadata": {},
   "outputs": [],
   "source": [
    "init_random_seed(9001)"
   ]
  },
  {
   "cell_type": "markdown",
   "metadata": {
    "collapsed": false
   },
   "source": [
    "# Modify following values according to desired flow"
   ]
  },
  {
   "cell_type": "code",
   "execution_count": 3,
   "metadata": {},
   "outputs": [],
   "source": [
    "original_model_path = \"bert-base-uncased\"\n",
    "model_dir = \"../models/\"\n",
    "model_fname = ''\n",
    "test_set_fname = ''\n",
    "mode = 'random' # Can be 'random', 'complete' or 'subsets'"
   ]
  },
  {
   "cell_type": "code",
   "execution_count": 4,
   "metadata": {},
   "outputs": [],
   "source": [
    "spacy_tokenizer = spacy.blank('en')\n",
    "def reduce_title(title,max_len,tokenizer):\n",
    "    tokens = tokenizer(title)\n",
    "    return tokens[:max_len].text"
   ]
  },
  {
   "cell_type": "code",
   "execution_count": 5,
   "metadata": {},
   "outputs": [],
   "source": [
    "test = pd.read_csv(test_set_fname, keep_default_na=False, na_values=['$$$__$$$'])\n",
    "test['title'] = test['title'].apply(lambda x: \" \".join(x.split()))\n",
    "test = process_df(test, spacy_tokenizer) if mode in ['random', 'subsets'] else test\n",
    "if mode == 'complete':\n",
    "    test['tok_len'] = test['title'].apply(lambda x: len(spacy_tokenizer(x)))"
   ]
  },
  {
   "cell_type": "code",
   "execution_count": 6,
   "metadata": {},
   "outputs": [
    {
     "name": "stdout",
     "output_type": "stream",
     "text": [
      "loading pretrained model_utils...\n"
     ]
    },
    {
     "name": "stderr",
     "output_type": "stream",
     "text": [
      "/Users/ggoren/Library/Python/3.9/lib/python/site-packages/huggingface_hub/file_download.py:943: FutureWarning: `resume_download` is deprecated and will be removed in version 1.0.0. Downloads always resume when possible. If you want to force a new download, use `force_download=True`.\n",
      "  warnings.warn(\n",
      "Some weights of the model checkpoint at bert-base-uncased were not used when initializing BertModel: ['cls.seq_relationship.weight', 'cls.predictions.transform.LayerNorm.weight', 'cls.predictions.transform.LayerNorm.bias', 'cls.seq_relationship.bias', 'cls.predictions.bias', 'cls.predictions.transform.dense.weight', 'cls.predictions.transform.dense.bias']\n",
      "- This IS expected if you are initializing BertModel from the checkpoint of a model trained on another task or with another architecture (e.g. initializing a BertForSequenceClassification model from a BertForPreTraining model).\n",
      "- This IS NOT expected if you are initializing BertModel from the checkpoint of a model that you expect to be exactly identical (initializing a BertForSequenceClassification model from a BertForSequenceClassification model).\n"
     ]
    },
    {
     "name": "stdout",
     "output_type": "stream",
     "text": [
      "loading tokenizer...\n",
      "Creating fine-tuning architecture for multiclass classification (Num Classes: 2)\n",
      "working on length 12\n"
     ]
    },
    {
     "name": "stderr",
     "output_type": "stream",
     "text": [
      "100%|████████████████████████████████████████████████████████████████████████████████████████████████████████████████████████████████████████████████████████████████████████| 2/2 [00:13<00:00,  6.98s/it]\n",
      "100%|████████████████████████████████████████████████████████████████████████████████████████████████████████████████████████████████████████████████████████████████████████| 2/2 [00:14<00:00,  7.02s/it]\n",
      "100%|████████████████████████████████████████████████████████████████████████████████████████████████████████████████████████████████████████████████████████████████████████| 2/2 [00:14<00:00,  7.07s/it]\n",
      "100%|████████████████████████████████████████████████████████████████████████████████████████████████████████████████████████████████████████████████████████████████████████| 2/2 [00:14<00:00,  7.10s/it]\n",
      "100%|████████████████████████████████████████████████████████████████████████████████████████████████████████████████████████████████████████████████████████████████████████| 2/2 [00:14<00:00,  7.12s/it]\n",
      "100%|████████████████████████████████████████████████████████████████████████████████████████████████████████████████████████████████████████████████████████████████████████| 2/2 [00:14<00:00,  7.11s/it]\n"
     ]
    }
   ],
   "source": [
    "original_token_lengths = [12,]\n",
    "prefix_lengths = list(range(1,7))\n",
    "\n",
    "\n",
    "stats = {}\n",
    "model, tokenizer = model_and_tokenizer_from_spec_cls(original_model_path,num_classes=test['label'].nunique())\n",
    "device = torch.device('cuda' if torch.cuda.is_available() else 'cpu')\n",
    "model_path = os.path.join(model_dir,model_fname)\n",
    "model.load_state_dict(torch.load(model_path))\n",
    "model = model.to(device)\n",
    "model.eval()\n",
    "\n",
    "for length in original_token_lengths:\n",
    "    print(\"working on length\",length)\n",
    "    stats[length] = {}\n",
    "    for prefix_length in prefix_lengths:\n",
    "        stats[length][prefix_length] ={}\n",
    "        tmp = test.copy(deep=True)\n",
    "        tmp = tmp[tmp.tok_len==length].reset_index(drop=True)\n",
    "        tmp['title'] = tmp['title'].apply(lambda x: reduce_title(x,prefix_length,spacy_tokenizer))\n",
    "        collate_fn = partial(collate_batch_amazon, pad_token_id=tokenizer.pad_token_id)\n",
    "        test_dl = get_data_loader_amazon_bert(tmp,tokenizer, collate_fn, batch_size=64, num_workers=4)\n",
    "\n",
    "        all_labels = []\n",
    "        all_preds_scores = []\n",
    "        with torch.no_grad():\n",
    "            for step,batch in enumerate(tqdm(test_dl)):\n",
    "                inp, labels = batch\n",
    "                model_input = tuple([item.to(device) for item in inp])\n",
    "                labels = labels.to(device)\n",
    "                outputs = model(model_input)\n",
    "                all_preds_scores.extend(list(outputs.cpu().numpy()))\n",
    "                all_labels.extend(list(labels.cpu().numpy()))\n",
    "\n",
    "        all_preds_scores, all_labels = np.array(all_preds_scores),np.array(all_labels)\n",
    "        all_preds = np.argmax(all_preds_scores,axis=1)\n",
    "        \n",
    "        precision_stats = get_all_classes_stats(precision,all_preds,all_labels)\n",
    "        macro_precision = np.mean([precision_stats[i] for i in precision_stats])*100\n",
    "        recall_stats = get_all_classes_stats(recall,all_preds,all_labels)\n",
    "        macro_recall = np.mean([recall_stats[i] for i in recall_stats])*100\n",
    "        accuracy_value = accuracy(all_preds,all_labels)*100\n",
    "        \n",
    "        stats[length][prefix_length]['MACRO_PRECISION'] = macro_precision\n",
    "        stats[length][prefix_length]['MACRO_RECALL'] = macro_recall\n",
    "        stats[length][prefix_length]['ACCURACY'] = accuracy_value\n",
    "        \n",
    "        for k in [3,5]:\n",
    "            hits, hit_rate = rank_predictions_metrics(all_preds_scores, all_labels, k)\n",
    "            stats[length][prefix_length][f'HITS@{k}'] = hit_rate"
   ]
  },
  {
   "cell_type": "code",
   "execution_count": null,
   "metadata": {},
   "outputs": [],
   "source": []
  }
 ],
 "metadata": {
  "kernelspec": {
   "display_name": "Python 3 (ipykernel)",
   "language": "python",
   "name": "python3"
  },
  "language_info": {
   "codemirror_mode": {
    "name": "ipython",
    "version": 3
   },
   "file_extension": ".py",
   "mimetype": "text/x-python",
   "name": "python",
   "nbconvert_exporter": "python",
   "pygments_lexer": "ipython3",
   "version": "3.9.6"
  }
 },
 "nbformat": 4,
 "nbformat_minor": 4
}
